{
 "cells": [
  {
   "cell_type": "markdown",
   "id": "3c374098",
   "metadata": {},
   "source": [
    "## Weekly Python Challenge 32\n",
    "\n",
    "Questions:\n",
    "\n",
    "Very easy:\n",
    "\n",
    "In this challenge, a farmer is asking you to tell him how many legs can be counted among all his animals. The farmer breeds three species:\n",
    "\n",
    "1. chickens = 2 legs\n",
    "2. cows = 4 legs\n",
    "3. pigs = 4 legs\n",
    "</br> \n",
    "The farmer has counted his animals and he gives you a subtotal for each species. You have to implement a function that returns the total number of legs of all the animals.\n",
    "\n",
    "##### Notes\n",
    "1. Don't forget to return the result.\n",
    "2. The order of animals passed is animals(chickens, cows, pigs).\n",
    "3. Remember that the farmer wants to know the total number of legs and not the total number of animals."
   ]
  },
  {
   "cell_type": "code",
   "execution_count": 1,
   "id": "68ad418e",
   "metadata": {},
   "outputs": [],
   "source": [
    "def animals(chickens, cows, pigs):\n",
    "    return chickens*2 + cows*4 + pigs*4"
   ]
  },
  {
   "cell_type": "code",
   "execution_count": 2,
   "id": "2e24e6a5",
   "metadata": {},
   "outputs": [
    {
     "data": {
      "text/plain": [
       "36"
      ]
     },
     "execution_count": 2,
     "metadata": {},
     "output_type": "execute_result"
    }
   ],
   "source": [
    "animals(2, 3, 5)"
   ]
  },
  {
   "cell_type": "code",
   "execution_count": 3,
   "id": "74c4b996",
   "metadata": {},
   "outputs": [
    {
     "data": {
      "text/plain": [
       "22"
      ]
     },
     "execution_count": 3,
     "metadata": {},
     "output_type": "execute_result"
    }
   ],
   "source": [
    "animals(1, 2, 3)"
   ]
  },
  {
   "cell_type": "code",
   "execution_count": 4,
   "id": "1812a797",
   "metadata": {},
   "outputs": [
    {
     "data": {
      "text/plain": [
       "50"
      ]
     },
     "execution_count": 4,
     "metadata": {},
     "output_type": "execute_result"
    }
   ],
   "source": [
    "animals(5, 2, 8)"
   ]
  },
  {
   "cell_type": "markdown",
   "id": "6470ca56",
   "metadata": {},
   "source": [
    "#### Easy:\n",
    "\n",
    "Using list comprehensions, create a function that finds all even numbers from 1 to the given number."
   ]
  },
  {
   "cell_type": "code",
   "execution_count": 5,
   "id": "bff25a20",
   "metadata": {},
   "outputs": [],
   "source": [
    "def find_even_nums(x):\n",
    "    y=x//2\n",
    "    return [i*2 for i in range(1,y+1)] "
   ]
  },
  {
   "cell_type": "code",
   "execution_count": 6,
   "id": "7b9d9f53",
   "metadata": {},
   "outputs": [
    {
     "data": {
      "text/plain": [
       "[2, 4, 6, 8]"
      ]
     },
     "execution_count": 6,
     "metadata": {},
     "output_type": "execute_result"
    }
   ],
   "source": [
    "find_even_nums(8)"
   ]
  },
  {
   "cell_type": "code",
   "execution_count": 7,
   "id": "652071ec",
   "metadata": {},
   "outputs": [
    {
     "data": {
      "text/plain": [
       "[2, 4]"
      ]
     },
     "execution_count": 7,
     "metadata": {},
     "output_type": "execute_result"
    }
   ],
   "source": [
    "find_even_nums(4)"
   ]
  },
  {
   "cell_type": "code",
   "execution_count": 8,
   "id": "e82d94d3",
   "metadata": {},
   "outputs": [
    {
     "data": {
      "text/plain": [
       "[2]"
      ]
     },
     "execution_count": 8,
     "metadata": {},
     "output_type": "execute_result"
    }
   ],
   "source": [
    "find_even_nums(2)"
   ]
  },
  {
   "cell_type": "code",
   "execution_count": 9,
   "id": "aba3dcc1",
   "metadata": {},
   "outputs": [
    {
     "data": {
      "text/plain": [
       "[2, 4, 6, 8]"
      ]
     },
     "execution_count": 9,
     "metadata": {},
     "output_type": "execute_result"
    }
   ],
   "source": [
    "find_even_nums(9)"
   ]
  },
  {
   "cell_type": "markdown",
   "id": "f815f935",
   "metadata": {},
   "source": [
    "#### Hard:\n",
    "\n",
    "Create a function that creates a box based on dimension n."
   ]
  },
  {
   "cell_type": "code",
   "execution_count": 10,
   "id": "ce116a78",
   "metadata": {},
   "outputs": [],
   "source": [
    "def make_box(x):\n",
    "    o=[]\n",
    "    if x==0:\n",
    "        o=[]\n",
    "    elif x==1:\n",
    "        o=['#']\n",
    "    elif x==2:\n",
    "        o=['##','##']\n",
    "    else:    \n",
    "        o.append('#'*x)\n",
    "        for i in range(x-2):\n",
    "            o.append('#'+' '*(x-2)+'#')\n",
    "        o.append('#'*x)\n",
    "    for i in o:\n",
    "        print(i)\n",
    "    return(o)"
   ]
  },
  {
   "cell_type": "code",
   "execution_count": 11,
   "id": "49dac257",
   "metadata": {},
   "outputs": [
    {
     "name": "stdout",
     "output_type": "stream",
     "text": [
      "###\n",
      "# #\n",
      "###\n"
     ]
    },
    {
     "data": {
      "text/plain": [
       "['###', '# #', '###']"
      ]
     },
     "execution_count": 11,
     "metadata": {},
     "output_type": "execute_result"
    }
   ],
   "source": [
    "make_box(3)"
   ]
  },
  {
   "cell_type": "code",
   "execution_count": 12,
   "id": "2bf4f691",
   "metadata": {},
   "outputs": [
    {
     "name": "stdout",
     "output_type": "stream",
     "text": [
      "#####\n",
      "#   #\n",
      "#   #\n",
      "#   #\n",
      "#####\n"
     ]
    },
    {
     "data": {
      "text/plain": [
       "['#####', '#   #', '#   #', '#   #', '#####']"
      ]
     },
     "execution_count": 12,
     "metadata": {},
     "output_type": "execute_result"
    }
   ],
   "source": [
    "make_box(5) "
   ]
  },
  {
   "cell_type": "code",
   "execution_count": 13,
   "id": "6b93501f",
   "metadata": {},
   "outputs": [
    {
     "name": "stdout",
     "output_type": "stream",
     "text": [
      "##\n",
      "##\n"
     ]
    },
    {
     "data": {
      "text/plain": [
       "['##', '##']"
      ]
     },
     "execution_count": 13,
     "metadata": {},
     "output_type": "execute_result"
    }
   ],
   "source": [
    "make_box(2)"
   ]
  },
  {
   "cell_type": "code",
   "execution_count": 14,
   "id": "96615c9b",
   "metadata": {},
   "outputs": [
    {
     "name": "stdout",
     "output_type": "stream",
     "text": [
      "#\n"
     ]
    },
    {
     "data": {
      "text/plain": [
       "['#']"
      ]
     },
     "execution_count": 14,
     "metadata": {},
     "output_type": "execute_result"
    }
   ],
   "source": [
    "make_box(1)"
   ]
  },
  {
   "cell_type": "code",
   "execution_count": 15,
   "id": "679c0d16",
   "metadata": {},
   "outputs": [
    {
     "data": {
      "text/plain": [
       "[]"
      ]
     },
     "execution_count": 15,
     "metadata": {},
     "output_type": "execute_result"
    }
   ],
   "source": [
    "make_box(0)"
   ]
  },
  {
   "cell_type": "code",
   "execution_count": null,
   "id": "8caa1a2b",
   "metadata": {},
   "outputs": [],
   "source": []
  }
 ],
 "metadata": {
  "kernelspec": {
   "display_name": "Python 3 (ipykernel)",
   "language": "python",
   "name": "python3"
  },
  "language_info": {
   "codemirror_mode": {
    "name": "ipython",
    "version": 3
   },
   "file_extension": ".py",
   "mimetype": "text/x-python",
   "name": "python",
   "nbconvert_exporter": "python",
   "pygments_lexer": "ipython3",
   "version": "3.9.13"
  }
 },
 "nbformat": 4,
 "nbformat_minor": 5
}
