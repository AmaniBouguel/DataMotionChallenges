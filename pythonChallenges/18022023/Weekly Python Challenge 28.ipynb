{
 "cells": [
  {
   "cell_type": "markdown",
   "id": "8af449a6",
   "metadata": {},
   "source": [
    "## Weekly Python Challenge 28"
   ]
  },
  {
   "cell_type": "markdown",
   "id": "ec3ca476",
   "metadata": {},
   "source": [
    "#### Question\n",
    "\n",
    "Create a function that takes a list of numbers lst, a string s and return a list of numbers as per the following rules:\n",
    "<ul>\n",
    "<li>\"Asc\" returns a sorted list in ascending order.</li>\n",
    "<li>\"Des\" returns a sorted list in descending order.</li>\n",
    "<li>\"None\" returns a list without any modification.</li>\n",
    "</ul>"
   ]
  },
  {
   "cell_type": "code",
   "execution_count": 1,
   "id": "b6c7ecad",
   "metadata": {},
   "outputs": [],
   "source": [
    "def asc_des_none(l,s):\n",
    "    try:\n",
    "        x=s.lower()\n",
    "        assert x in['asc','des','none']\n",
    "        if x=='asc':\n",
    "            l.sort()\n",
    "        elif x=='des':\n",
    "            l.sort(reverse=True)\n",
    "        return l\n",
    "    except: \n",
    "        print('Could you please choose one of the following options: Asc for ascending order, Des for descending order or None for no sorting')"
   ]
  },
  {
   "cell_type": "code",
   "execution_count": 2,
   "id": "ae1b2617",
   "metadata": {},
   "outputs": [
    {
     "data": {
      "text/plain": [
       "[1, 2, 3, 4]"
      ]
     },
     "execution_count": 2,
     "metadata": {},
     "output_type": "execute_result"
    }
   ],
   "source": [
    "asc_des_none([4, 3, 2, 1], \"Asc\" )"
   ]
  },
  {
   "cell_type": "code",
   "execution_count": 3,
   "id": "bbfa5874",
   "metadata": {},
   "outputs": [
    {
     "data": {
      "text/plain": [
       "[66, 11, 8, 7]"
      ]
     },
     "execution_count": 3,
     "metadata": {},
     "output_type": "execute_result"
    }
   ],
   "source": [
    "asc_des_none([7, 8, 11, 66], \"Des\")"
   ]
  },
  {
   "cell_type": "code",
   "execution_count": 4,
   "id": "74f20792",
   "metadata": {},
   "outputs": [
    {
     "data": {
      "text/plain": [
       "[1, 2, 3, 4]"
      ]
     },
     "execution_count": 4,
     "metadata": {},
     "output_type": "execute_result"
    }
   ],
   "source": [
    "asc_des_none([1, 2, 3, 4], \"None\")"
   ]
  },
  {
   "cell_type": "code",
   "execution_count": 5,
   "id": "24058ebc",
   "metadata": {},
   "outputs": [
    {
     "name": "stdout",
     "output_type": "stream",
     "text": [
      "Could you please choose one of the following options: Asc for ascending order, Des for descending order or None for no sorting\n"
     ]
    }
   ],
   "source": [
    "asc_des_none([1, 2, 3, 4], \"No\")"
   ]
  }
 ],
 "metadata": {
  "kernelspec": {
   "display_name": "Python 3 (ipykernel)",
   "language": "python",
   "name": "python3"
  },
  "language_info": {
   "codemirror_mode": {
    "name": "ipython",
    "version": 3
   },
   "file_extension": ".py",
   "mimetype": "text/x-python",
   "name": "python",
   "nbconvert_exporter": "python",
   "pygments_lexer": "ipython3",
   "version": "3.9.13"
  }
 },
 "nbformat": 4,
 "nbformat_minor": 5
}
