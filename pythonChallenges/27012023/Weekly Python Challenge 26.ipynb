{
 "cells": [
  {
   "cell_type": "markdown",
   "id": "d5ec914a",
   "metadata": {},
   "source": [
    "## Weekly Python Challenge 26"
   ]
  },
  {
   "cell_type": "markdown",
   "id": "df8f8970",
   "metadata": {},
   "source": [
    "#### Write a function named only_ints that takes two parameters. Your function should return True if both parameters are integers, and False otherwise.\n",
    "\n",
    "##### For example, calling only_ints(1, 2) should return True, while calling only_ints(\"a\", 1) should return False."
   ]
  },
  {
   "cell_type": "code",
   "execution_count": 1,
   "id": "56f6a270",
   "metadata": {},
   "outputs": [],
   "source": [
    "def only_ints(x,y):\n",
    "    return type(x)==int and type(y)==int"
   ]
  },
  {
   "cell_type": "code",
   "execution_count": 2,
   "id": "77ca0f46",
   "metadata": {},
   "outputs": [
    {
     "data": {
      "text/plain": [
       "True"
      ]
     },
     "execution_count": 2,
     "metadata": {},
     "output_type": "execute_result"
    }
   ],
   "source": [
    "only_ints(1, 2)"
   ]
  },
  {
   "cell_type": "code",
   "execution_count": 3,
   "id": "0695cab5",
   "metadata": {},
   "outputs": [
    {
     "data": {
      "text/plain": [
       "False"
      ]
     },
     "execution_count": 3,
     "metadata": {},
     "output_type": "execute_result"
    }
   ],
   "source": [
    "only_ints(\"a\", 1)"
   ]
  },
  {
   "cell_type": "code",
   "execution_count": 4,
   "id": "96a5bc95",
   "metadata": {
    "scrolled": true
   },
   "outputs": [
    {
     "data": {
      "text/plain": [
       "False"
      ]
     },
     "execution_count": 4,
     "metadata": {},
     "output_type": "execute_result"
    }
   ],
   "source": [
    "only_ints(True, 1)"
   ]
  },
  {
   "cell_type": "markdown",
   "id": "cdbb7e76",
   "metadata": {},
   "source": [
    "#### Optional Bonus\n",
    "\n",
    "#### Create a program that simulates rock, paper, scissors!"
   ]
  },
  {
   "cell_type": "code",
   "execution_count": 5,
   "id": "c2822723",
   "metadata": {},
   "outputs": [],
   "source": [
    "import random"
   ]
  },
  {
   "cell_type": "code",
   "execution_count": 6,
   "id": "60d6ea0b",
   "metadata": {},
   "outputs": [],
   "source": [
    "def inputStr():\n",
    "    try:\n",
    "        x = str(input(\"Enter your choice between rock, paper, scissors: \"))\n",
    "        assert x.lower() in[\"rock\", \"paper\", \"scissors\"]\n",
    "    except:\n",
    "        print(\"invalid entry\")\n",
    "    else:\n",
    "        return(x.lower())\n",
    "    "
   ]
  },
  {
   "cell_type": "code",
   "execution_count": 7,
   "id": "fd0f9ffa",
   "metadata": {},
   "outputs": [],
   "source": [
    "def encodeStr(x):\n",
    "    switcher = {\n",
    "        'rock':0 ,\n",
    "        'paper': 1,\n",
    "        'scissors':2,\n",
    "    }\n",
    "    return switcher.get(x)"
   ]
  },
  {
   "cell_type": "code",
   "execution_count": 8,
   "id": "544ede7e",
   "metadata": {},
   "outputs": [],
   "source": [
    "def decodeStr(x):\n",
    "    switcher = {\n",
    "        0:'rock',\n",
    "        1:'paper',\n",
    "        2:'scissors',\n",
    "    }\n",
    "    return switcher.get(x)"
   ]
  },
  {
   "cell_type": "code",
   "execution_count": 9,
   "id": "974fd601",
   "metadata": {},
   "outputs": [],
   "source": [
    "def gameResult(x):\n",
    "    y =random.randint(0, 2)\n",
    "    z=encodeStr(x)\n",
    "    if y==z:\n",
    "        print(\"Computer's choice is \"+decodeStr(y)+'\\n It is a tie!')\n",
    "    elif ((z==0 and y==2) or(z==1 and y==0) or (z==2 and y==1)):\n",
    "        print(\"Computer's choice is \"+decodeStr(y)+'\\n You win, Congratulations!')\n",
    "    else:\n",
    "        print(\"Computer's choice is \"+decodeStr(y)+'\\n You lost, sorry try again ^^')"
   ]
  },
  {
   "cell_type": "code",
   "execution_count": 10,
   "id": "a891833e",
   "metadata": {},
   "outputs": [],
   "source": [
    "def play():\n",
    "    try:\n",
    "        x = str(input(\"Enter your choice between rock, paper, scissors: \"))\n",
    "        assert x.lower() in[\"rock\", \"paper\", \"scissors\"]\n",
    "        x=x.lower()\n",
    "        gameResult(x)\n",
    "    except:\n",
    "        print(\"invalid entry\")"
   ]
  },
  {
   "cell_type": "code",
   "execution_count": 11,
   "id": "a44d0a25",
   "metadata": {},
   "outputs": [
    {
     "name": "stdout",
     "output_type": "stream",
     "text": [
      "Enter your choice between rock, paper, scissors: test\n",
      "invalid entry\n"
     ]
    }
   ],
   "source": [
    "play()"
   ]
  },
  {
   "cell_type": "code",
   "execution_count": 12,
   "id": "7ee8f6b4",
   "metadata": {},
   "outputs": [
    {
     "name": "stdout",
     "output_type": "stream",
     "text": [
      "Enter your choice between rock, paper, scissors: Rock\n",
      "Computer's choice is paper\n",
      " You lost, sorry try again ^^\n"
     ]
    }
   ],
   "source": [
    "play()"
   ]
  },
  {
   "cell_type": "code",
   "execution_count": 13,
   "id": "4b7b9548",
   "metadata": {},
   "outputs": [
    {
     "name": "stdout",
     "output_type": "stream",
     "text": [
      "Enter your choice between rock, paper, scissors: paper\n",
      "Computer's choice is rock\n",
      " You win, Congratulations!\n"
     ]
    }
   ],
   "source": [
    "play()"
   ]
  }
 ],
 "metadata": {
  "kernelspec": {
   "display_name": "Python 3 (ipykernel)",
   "language": "python",
   "name": "python3"
  },
  "language_info": {
   "codemirror_mode": {
    "name": "ipython",
    "version": 3
   },
   "file_extension": ".py",
   "mimetype": "text/x-python",
   "name": "python",
   "nbconvert_exporter": "python",
   "pygments_lexer": "ipython3",
   "version": "3.9.13"
  }
 },
 "nbformat": 4,
 "nbformat_minor": 5
}
