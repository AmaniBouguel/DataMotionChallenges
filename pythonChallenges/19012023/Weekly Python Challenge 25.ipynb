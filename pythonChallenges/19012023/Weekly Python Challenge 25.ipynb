{
 "cells": [
  {
   "cell_type": "markdown",
   "id": "d5ec914a",
   "metadata": {},
   "source": [
    "## Weekly Python Challenge 25"
   ]
  },
  {
   "cell_type": "markdown",
   "id": "df8f8970",
   "metadata": {},
   "source": [
    "#### Create a function yell which accepts a single string argument. It should return(not print) an uppercased version of the string with an exclamation point added at the end. For example:"
   ]
  },
  {
   "cell_type": "code",
   "execution_count": 1,
   "id": "c48cc93c",
   "metadata": {},
   "outputs": [],
   "source": [
    "def yell(s):\n",
    "    return s.upper()+'!'"
   ]
  },
  {
   "cell_type": "code",
   "execution_count": 2,
   "id": "419a277d",
   "metadata": {},
   "outputs": [
    {
     "data": {
      "text/plain": [
       "'GO AWAY!'"
      ]
     },
     "execution_count": 2,
     "metadata": {},
     "output_type": "execute_result"
    }
   ],
   "source": [
    "yell(\"go away\")"
   ]
  },
  {
   "cell_type": "code",
   "execution_count": 3,
   "id": "85ed9fac",
   "metadata": {},
   "outputs": [
    {
     "data": {
      "text/plain": [
       "'LEAVE ME ALONE!'"
      ]
     },
     "execution_count": 3,
     "metadata": {},
     "output_type": "execute_result"
    }
   ],
   "source": [
    "yell(\"leave me alone\")"
   ]
  }
 ],
 "metadata": {
  "kernelspec": {
   "display_name": "Python 3 (ipykernel)",
   "language": "python",
   "name": "python3"
  },
  "language_info": {
   "codemirror_mode": {
    "name": "ipython",
    "version": 3
   },
   "file_extension": ".py",
   "mimetype": "text/x-python",
   "name": "python",
   "nbconvert_exporter": "python",
   "pygments_lexer": "ipython3",
   "version": "3.9.13"
  }
 },
 "nbformat": 4,
 "nbformat_minor": 5
}
