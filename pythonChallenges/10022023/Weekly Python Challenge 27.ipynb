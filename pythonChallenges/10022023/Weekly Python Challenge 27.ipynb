{
 "cells": [
  {
   "cell_type": "markdown",
   "id": "edf83adb",
   "metadata": {},
   "source": [
    "## Weekly Python Challenge 27"
   ]
  },
  {
   "cell_type": "markdown",
   "id": "c3675049",
   "metadata": {},
   "source": [
    "#### Characters and ASCII Code Dictionary\n",
    "\n",
    "#### Write a function that transforms a list of characters into a list of dictionaries, where: The keys are the characters themselves. The values are the ASCII codes of those characters.\n",
    "\n",
    "Examples to_dict([\"a\", \"b\", \"c\"]) ➞ [{\"a\": 97}, {\"b\": 98}, {\"c\": 99}]\n",
    "\n",
    "to_dict([\"^\"]) ➞ [{\"^\": 94}]\n",
    "\n",
    "to_dict([]) ➞ []\n",
    "\n"
   ]
  },
  {
   "cell_type": "code",
   "execution_count": 35,
   "id": "3bf1c7f6",
   "metadata": {},
   "outputs": [],
   "source": [
    "def to_dict(l):\n",
    "    return[{l[i]:ord(l[i])} for i in range(len(l))]"
   ]
  },
  {
   "cell_type": "code",
   "execution_count": 36,
   "id": "94b1aa49",
   "metadata": {},
   "outputs": [
    {
     "data": {
      "text/plain": [
       "[{'a': 97}, {'b': 98}, {'c': 99}]"
      ]
     },
     "execution_count": 36,
     "metadata": {},
     "output_type": "execute_result"
    }
   ],
   "source": [
    "to_dict([\"a\", \"b\", \"c\"])"
   ]
  },
  {
   "cell_type": "code",
   "execution_count": 37,
   "id": "dd475f66",
   "metadata": {},
   "outputs": [
    {
     "data": {
      "text/plain": [
       "[{'^': 94}]"
      ]
     },
     "execution_count": 37,
     "metadata": {},
     "output_type": "execute_result"
    }
   ],
   "source": [
    "to_dict([\"^\"])"
   ]
  },
  {
   "cell_type": "code",
   "execution_count": 38,
   "id": "8b402cf1",
   "metadata": {},
   "outputs": [
    {
     "data": {
      "text/plain": [
       "[]"
      ]
     },
     "execution_count": 38,
     "metadata": {},
     "output_type": "execute_result"
    }
   ],
   "source": [
    "to_dict([])"
   ]
  }
 ],
 "metadata": {
  "kernelspec": {
   "display_name": "Python 3 (ipykernel)",
   "language": "python",
   "name": "python3"
  },
  "language_info": {
   "codemirror_mode": {
    "name": "ipython",
    "version": 3
   },
   "file_extension": ".py",
   "mimetype": "text/x-python",
   "name": "python",
   "nbconvert_exporter": "python",
   "pygments_lexer": "ipython3",
   "version": "3.9.13"
  }
 },
 "nbformat": 4,
 "nbformat_minor": 5
}
