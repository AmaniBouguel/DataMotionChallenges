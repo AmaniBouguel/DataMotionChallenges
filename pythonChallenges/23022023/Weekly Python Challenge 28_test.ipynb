{
 "cells": [
  {
   "cell_type": "markdown",
   "id": "73ff5d11",
   "metadata": {},
   "source": []
  },
  {
   "cell_type": "markdown",
   "id": "fdaf0da6",
   "metadata": {},
   "source": [
    "#### Question\n",
    "\n",
    "The vertical bar | is the equivalent to \"or\" in RegEx. The regular expression x|y matches either \"x\" or \"y\". Write the regular expression that will match all red flag and blue flag in a string. You must use | in your expression. Flags can come in any order.\n",
    "\n",
    "Examples\n",
    "<ul>\n",
    "<li>txt1 = \"red flag blue flag\" </li>\n",
    "<li>txt2 = \"yellow flag red flag blue flag green flag\"</li>\n",
    "<li>txt3 = \"pink flag red flag black flag blue flag green flag red flag\"</li>\n",
    "<li>pattern = \"yourregularexpressionhere\"</li>\n",
    "</ul>\n",
    "<ul>\n",
    "<li>re.findall(pattern, txt1) ➞ [\"red flag\", \"blue flag\"]</li>\n",
    "<li>re.findall(pattern, txt2) ➞ [\"red flag\", \"blue flag\"]</li>\n",
    "<li>re.findall(pattern, txt3) ➞ [\"red flag\", \"blue flag\", \"red flag\"]</li>\n",
    "<ul>\n",
    "To submit your entries, make a LinkedIn post with a screenshot of your answers. You can explain your thought process if you'd like. Just make sure to tag the Data in Motion LLC company page."
   ]
  },
  {
   "cell_type": "code",
   "execution_count": 1,
   "id": "00b933bc",
   "metadata": {},
   "outputs": [
    {
     "name": "stdout",
     "output_type": "stream",
     "text": [
      "['ai', 'ai']\n"
     ]
    }
   ],
   "source": [
    "import re\n",
    "\n",
    "txt = \"The rain in Spain\"\n",
    "x = re.findall(\"ai\", txt)\n",
    "print(x)"
   ]
  },
  {
   "cell_type": "code",
   "execution_count": 2,
   "id": "6a277e7f",
   "metadata": {},
   "outputs": [
    {
     "name": "stdout",
     "output_type": "stream",
     "text": [
      "[]\n"
     ]
    }
   ],
   "source": [
    "import re\n",
    "\n",
    "txt = \"The rain in Spain\"\n",
    "x = re.findall(\"Portugal\", txt)\n",
    "print(x)"
   ]
  },
  {
   "cell_type": "code",
   "execution_count": 3,
   "id": "49aa2422",
   "metadata": {},
   "outputs": [
    {
     "name": "stdout",
     "output_type": "stream",
     "text": [
      "The first white-space character is located in position: 3\n"
     ]
    }
   ],
   "source": [
    "import re\n",
    "\n",
    "txt = \"The rain in Spain\"\n",
    "x = re.search(\"\\s\", txt)\n",
    "\n",
    "print(\"The first white-space character is located in position:\", x.start())"
   ]
  },
  {
   "cell_type": "code",
   "execution_count": 7,
   "id": "d3670f01",
   "metadata": {},
   "outputs": [
    {
     "name": "stdout",
     "output_type": "stream",
     "text": [
      "17\n"
     ]
    }
   ],
   "source": [
    "import re\n",
    "\n",
    "txt = \"The rain in Spain\"\n",
    "x = re.search(\"Spain\", txt)\n",
    "print(x.end())"
   ]
  },
  {
   "cell_type": "code",
   "execution_count": 8,
   "id": "e4e10de4",
   "metadata": {},
   "outputs": [
    {
     "name": "stdout",
     "output_type": "stream",
     "text": [
      "['The', 'rain', 'in', 'Spain']\n"
     ]
    }
   ],
   "source": [
    "import re\n",
    "\n",
    "txt = \"The rain in Spain\"\n",
    "x = re.split(\"\\s\", txt)\n",
    "print(x)"
   ]
  },
  {
   "cell_type": "code",
   "execution_count": 9,
   "id": "b5b70da6",
   "metadata": {},
   "outputs": [
    {
     "name": "stdout",
     "output_type": "stream",
     "text": [
      "The9rain9in9Spain\n"
     ]
    }
   ],
   "source": [
    "import re\n",
    "\n",
    "txt = \"The rain in Spain\"\n",
    "x = re.sub(\"\\s\", \"9\", txt)\n",
    "print(x)"
   ]
  },
  {
   "cell_type": "code",
   "execution_count": null,
   "id": "84235abf",
   "metadata": {},
   "outputs": [],
   "source": []
  }
 ],
 "metadata": {
  "kernelspec": {
   "display_name": "Python 3 (ipykernel)",
   "language": "python",
   "name": "python3"
  },
  "language_info": {
   "codemirror_mode": {
    "name": "ipython",
    "version": 3
   },
   "file_extension": ".py",
   "mimetype": "text/x-python",
   "name": "python",
   "nbconvert_exporter": "python",
   "pygments_lexer": "ipython3",
   "version": "3.9.13"
  }
 },
 "nbformat": 4,
 "nbformat_minor": 5
}
