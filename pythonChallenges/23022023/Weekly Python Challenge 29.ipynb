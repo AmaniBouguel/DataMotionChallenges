{
 "cells": [
  {
   "cell_type": "markdown",
   "id": "0ecca242",
   "metadata": {},
   "source": [
    "## Weekly Python Challenge 29"
   ]
  },
  {
   "cell_type": "markdown",
   "id": "8dc19c83",
   "metadata": {},
   "source": [
    "#### Question\n",
    "\n",
    "The vertical bar | is the equivalent to \"or\" in RegEx. The regular expression x|y matches either \"x\" or \"y\". Write the regular expression that will match all red flag and blue flag in a string. You must use | in your expression. Flags can come in any order.\n",
    "\n",
    "Examples\n",
    "<ul>\n",
    "<li>txt1 = \"red flag blue flag\" </li>\n",
    "<li>txt2 = \"yellow flag red flag blue flag green flag\"</li>\n",
    "<li>txt3 = \"pink flag red flag black flag blue flag green flag red flag\"</li>\n",
    "<li>pattern = \"yourregularexpressionhere\"</li>\n",
    "</ul>\n",
    "<ul>\n",
    "<li>re.findall(pattern, txt1) ➞ [\"red flag\", \"blue flag\"]</li>\n",
    "<li>re.findall(pattern, txt2) ➞ [\"red flag\", \"blue flag\"]</li>\n",
    "<li>re.findall(pattern, txt3) ➞ [\"red flag\", \"blue flag\", \"red flag\"]</li>\n",
    "<ul>"
   ]
  },
  {
   "cell_type": "code",
   "execution_count": 1,
   "id": "bdc6a584",
   "metadata": {},
   "outputs": [],
   "source": [
    "import re"
   ]
  },
  {
   "cell_type": "code",
   "execution_count": 2,
   "id": "1a3b265e",
   "metadata": {},
   "outputs": [],
   "source": [
    "txt1 = \"red flag blue flag\"\n",
    "txt2 = \"yellow flag red flag blue flag green flag\"\n",
    "txt3 = \"pink flag red flag black flag blue flag green flag red flag\"\n",
    "pattern = \"blue flag|red flag\""
   ]
  },
  {
   "cell_type": "code",
   "execution_count": 3,
   "id": "4b700a07",
   "metadata": {},
   "outputs": [
    {
     "data": {
      "text/plain": [
       "['red flag', 'blue flag']"
      ]
     },
     "execution_count": 3,
     "metadata": {},
     "output_type": "execute_result"
    }
   ],
   "source": [
    "re.findall(pattern, txt1)"
   ]
  },
  {
   "cell_type": "code",
   "execution_count": 4,
   "id": "5222ef49",
   "metadata": {},
   "outputs": [
    {
     "data": {
      "text/plain": [
       "['red flag', 'blue flag']"
      ]
     },
     "execution_count": 4,
     "metadata": {},
     "output_type": "execute_result"
    }
   ],
   "source": [
    "re.findall(pattern, txt2)"
   ]
  },
  {
   "cell_type": "code",
   "execution_count": 5,
   "id": "7ec56132",
   "metadata": {},
   "outputs": [
    {
     "data": {
      "text/plain": [
       "['red flag', 'blue flag', 'red flag']"
      ]
     },
     "execution_count": 5,
     "metadata": {},
     "output_type": "execute_result"
    }
   ],
   "source": [
    "re.findall(pattern, txt3)"
   ]
  }
 ],
 "metadata": {
  "kernelspec": {
   "display_name": "Python 3 (ipykernel)",
   "language": "python",
   "name": "python3"
  },
  "language_info": {
   "codemirror_mode": {
    "name": "ipython",
    "version": 3
   },
   "file_extension": ".py",
   "mimetype": "text/x-python",
   "name": "python",
   "nbconvert_exporter": "python",
   "pygments_lexer": "ipython3",
   "version": "3.9.13"
  }
 },
 "nbformat": 4,
 "nbformat_minor": 5
}
