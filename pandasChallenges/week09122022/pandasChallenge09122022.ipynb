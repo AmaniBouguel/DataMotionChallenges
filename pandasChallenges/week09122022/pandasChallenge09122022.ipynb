{
 "cells": [
  {
   "cell_type": "markdown",
   "id": "ab2511c8",
   "metadata": {},
   "source": [
    "## Data in Motion Challenge / week 10.12.2022\n",
    "### Pandas challenge"
   ]
  },
  {
   "cell_type": "code",
   "execution_count": 1,
   "id": "e26932f6",
   "metadata": {},
   "outputs": [],
   "source": [
    "import pandas as pd\n",
    "import numpy as np"
   ]
  },
  {
   "cell_type": "code",
   "execution_count": 2,
   "id": "8e753967",
   "metadata": {},
   "outputs": [],
   "source": [
    "url = 'https://raw.githubusercontent.com/datasets/investor-flow-of-funds-us/master/data/weekly.csv'\n",
    "\n",
    "df = pd.read_csv(url)"
   ]
  },
  {
   "cell_type": "code",
   "execution_count": 3,
   "id": "4d5e8c40",
   "metadata": {},
   "outputs": [
    {
     "data": {
      "text/html": [
       "<div>\n",
       "<style scoped>\n",
       "    .dataframe tbody tr th:only-of-type {\n",
       "        vertical-align: middle;\n",
       "    }\n",
       "\n",
       "    .dataframe tbody tr th {\n",
       "        vertical-align: top;\n",
       "    }\n",
       "\n",
       "    .dataframe thead th {\n",
       "        text-align: right;\n",
       "    }\n",
       "</style>\n",
       "<table border=\"1\" class=\"dataframe\">\n",
       "  <thead>\n",
       "    <tr style=\"text-align: right;\">\n",
       "      <th></th>\n",
       "      <th>Date</th>\n",
       "      <th>Total Equity</th>\n",
       "      <th>Domestic Equity</th>\n",
       "      <th>World Equity</th>\n",
       "      <th>Hybrid</th>\n",
       "      <th>Total Bond</th>\n",
       "      <th>Taxable Bond</th>\n",
       "      <th>Municipal Bond</th>\n",
       "      <th>Total</th>\n",
       "    </tr>\n",
       "  </thead>\n",
       "  <tbody>\n",
       "    <tr>\n",
       "      <th>0</th>\n",
       "      <td>2012-12-05</td>\n",
       "      <td>-7426</td>\n",
       "      <td>-6060</td>\n",
       "      <td>-1367</td>\n",
       "      <td>-74</td>\n",
       "      <td>5317</td>\n",
       "      <td>4210</td>\n",
       "      <td>1107</td>\n",
       "      <td>-2183</td>\n",
       "    </tr>\n",
       "    <tr>\n",
       "      <th>1</th>\n",
       "      <td>2012-12-12</td>\n",
       "      <td>-8783</td>\n",
       "      <td>-7520</td>\n",
       "      <td>-1263</td>\n",
       "      <td>123</td>\n",
       "      <td>1818</td>\n",
       "      <td>1598</td>\n",
       "      <td>219</td>\n",
       "      <td>-6842</td>\n",
       "    </tr>\n",
       "    <tr>\n",
       "      <th>2</th>\n",
       "      <td>2012-12-19</td>\n",
       "      <td>-5496</td>\n",
       "      <td>-5470</td>\n",
       "      <td>-26</td>\n",
       "      <td>-73</td>\n",
       "      <td>103</td>\n",
       "      <td>3472</td>\n",
       "      <td>-3369</td>\n",
       "      <td>-5466</td>\n",
       "    </tr>\n",
       "    <tr>\n",
       "      <th>3</th>\n",
       "      <td>2012-12-26</td>\n",
       "      <td>-4451</td>\n",
       "      <td>-4076</td>\n",
       "      <td>-375</td>\n",
       "      <td>550</td>\n",
       "      <td>2610</td>\n",
       "      <td>3333</td>\n",
       "      <td>-722</td>\n",
       "      <td>-1291</td>\n",
       "    </tr>\n",
       "    <tr>\n",
       "      <th>4</th>\n",
       "      <td>2013-01-02</td>\n",
       "      <td>-11156</td>\n",
       "      <td>-9622</td>\n",
       "      <td>-1533</td>\n",
       "      <td>-158</td>\n",
       "      <td>2383</td>\n",
       "      <td>2103</td>\n",
       "      <td>280</td>\n",
       "      <td>-8931</td>\n",
       "    </tr>\n",
       "  </tbody>\n",
       "</table>\n",
       "</div>"
      ],
      "text/plain": [
       "         Date  Total Equity  Domestic Equity  World Equity  Hybrid  \\\n",
       "0  2012-12-05         -7426            -6060         -1367     -74   \n",
       "1  2012-12-12         -8783            -7520         -1263     123   \n",
       "2  2012-12-19         -5496            -5470           -26     -73   \n",
       "3  2012-12-26         -4451            -4076          -375     550   \n",
       "4  2013-01-02        -11156            -9622         -1533    -158   \n",
       "\n",
       "   Total Bond  Taxable Bond  Municipal Bond  Total  \n",
       "0        5317          4210            1107  -2183  \n",
       "1        1818          1598             219  -6842  \n",
       "2         103          3472           -3369  -5466  \n",
       "3        2610          3333            -722  -1291  \n",
       "4        2383          2103             280  -8931  "
      ]
     },
     "execution_count": 3,
     "metadata": {},
     "output_type": "execute_result"
    }
   ],
   "source": [
    "df.head()"
   ]
  },
  {
   "cell_type": "code",
   "execution_count": 4,
   "id": "2caff8ee",
   "metadata": {},
   "outputs": [
    {
     "name": "stdout",
     "output_type": "stream",
     "text": [
      "<class 'pandas.core.frame.DataFrame'>\n",
      "RangeIndex: 44 entries, 0 to 43\n",
      "Data columns (total 9 columns):\n",
      " #   Column           Non-Null Count  Dtype \n",
      "---  ------           --------------  ----- \n",
      " 0   Date             44 non-null     object\n",
      " 1   Total Equity     44 non-null     int64 \n",
      " 2   Domestic Equity  44 non-null     int64 \n",
      " 3   World Equity     44 non-null     int64 \n",
      " 4   Hybrid           44 non-null     int64 \n",
      " 5   Total Bond       44 non-null     int64 \n",
      " 6   Taxable Bond     44 non-null     int64 \n",
      " 7   Municipal Bond   44 non-null     int64 \n",
      " 8   Total            44 non-null     int64 \n",
      "dtypes: int64(8), object(1)\n",
      "memory usage: 3.2+ KB\n"
     ]
    }
   ],
   "source": [
    "df.info()"
   ]
  },
  {
   "cell_type": "markdown",
   "id": "e5c0011a",
   "metadata": {},
   "source": [
    "### What is the frequency of the dataset? (The time period between each row)"
   ]
  },
  {
   "cell_type": "markdown",
   "id": "b9e956b5",
   "metadata": {},
   "source": [
    "Date type is object. We need to change it datetime </br>\n",
    "create first of all a copy of the dataframe"
   ]
  },
  {
   "cell_type": "code",
   "execution_count": 5,
   "id": "c4bb4a20",
   "metadata": {},
   "outputs": [],
   "source": [
    "df2=df.copy()"
   ]
  },
  {
   "cell_type": "code",
   "execution_count": 6,
   "id": "b54bedc8",
   "metadata": {},
   "outputs": [],
   "source": [
    "df2.Date=pd.to_datetime(df2.Date)"
   ]
  },
  {
   "cell_type": "code",
   "execution_count": 7,
   "id": "7ee556e5",
   "metadata": {},
   "outputs": [
    {
     "name": "stdout",
     "output_type": "stream",
     "text": [
      "datetime64[ns]\n"
     ]
    }
   ],
   "source": [
    "print(df2.Date.dtypes)"
   ]
  },
  {
   "cell_type": "code",
   "execution_count": 8,
   "id": "2de5ca39",
   "metadata": {},
   "outputs": [],
   "source": [
    "freq=df2.Date.diff()"
   ]
  },
  {
   "cell_type": "code",
   "execution_count": 9,
   "id": "30235b86",
   "metadata": {},
   "outputs": [
    {
     "name": "stdout",
     "output_type": "stream",
     "text": [
      "0         NaT\n",
      "1      7 days\n",
      "2      7 days\n",
      "3      7 days\n",
      "4      7 days\n",
      "5      7 days\n",
      "6    448 days\n",
      "7      7 days\n",
      "8      7 days\n",
      "9      7 days\n",
      "10     7 days\n",
      "11     7 days\n",
      "12     7 days\n",
      "13     7 days\n",
      "14     7 days\n",
      "15     7 days\n",
      "16     7 days\n",
      "17     7 days\n",
      "18     7 days\n",
      "19     7 days\n",
      "20     7 days\n",
      "21    21 days\n",
      "22     7 days\n",
      "23     7 days\n",
      "24     7 days\n",
      "25     7 days\n",
      "26     7 days\n",
      "27     7 days\n",
      "28    56 days\n",
      "29     7 days\n",
      "30     7 days\n",
      "31     6 days\n",
      "32    43 days\n",
      "33     7 days\n",
      "34     7 days\n",
      "35     7 days\n",
      "36     7 days\n",
      "37     7 days\n",
      "38    21 days\n",
      "39     7 days\n",
      "40     7 days\n",
      "41     7 days\n",
      "42     7 days\n",
      "43     7 days\n",
      "Name: Date, dtype: timedelta64[ns]\n"
     ]
    }
   ],
   "source": [
    "print(freq)"
   ]
  },
  {
   "cell_type": "markdown",
   "id": "7b88a117",
   "metadata": {},
   "source": [
    "### What is the data type of the index?"
   ]
  },
  {
   "cell_type": "code",
   "execution_count": 10,
   "id": "e70490dd",
   "metadata": {},
   "outputs": [
    {
     "data": {
      "text/plain": [
       "RangeIndex(start=0, stop=44, step=1)"
      ]
     },
     "execution_count": 10,
     "metadata": {},
     "output_type": "execute_result"
    }
   ],
   "source": [
    "df2.index"
   ]
  },
  {
   "cell_type": "code",
   "execution_count": 11,
   "id": "b1664702",
   "metadata": {},
   "outputs": [
    {
     "data": {
      "text/plain": [
       "dtype('int64')"
      ]
     },
     "execution_count": 11,
     "metadata": {},
     "output_type": "execute_result"
    }
   ],
   "source": [
    "df2.index.dtype"
   ]
  },
  {
   "cell_type": "markdown",
   "id": "57b139fb",
   "metadata": {},
   "source": [
    "### Set the index to a Datetime. "
   ]
  },
  {
   "cell_type": "code",
   "execution_count": 12,
   "id": "a3390706",
   "metadata": {},
   "outputs": [],
   "source": [
    "df2.index = pd.to_datetime(df2.index)"
   ]
  },
  {
   "cell_type": "code",
   "execution_count": 13,
   "id": "f2c8d0cc",
   "metadata": {},
   "outputs": [
    {
     "name": "stdout",
     "output_type": "stream",
     "text": [
      "datetime64[ns]\n"
     ]
    }
   ],
   "source": [
    "print(df2.index.dtype)"
   ]
  },
  {
   "cell_type": "code",
   "execution_count": 14,
   "id": "c3466536",
   "metadata": {},
   "outputs": [
    {
     "data": {
      "text/html": [
       "<div>\n",
       "<style scoped>\n",
       "    .dataframe tbody tr th:only-of-type {\n",
       "        vertical-align: middle;\n",
       "    }\n",
       "\n",
       "    .dataframe tbody tr th {\n",
       "        vertical-align: top;\n",
       "    }\n",
       "\n",
       "    .dataframe thead th {\n",
       "        text-align: right;\n",
       "    }\n",
       "</style>\n",
       "<table border=\"1\" class=\"dataframe\">\n",
       "  <thead>\n",
       "    <tr style=\"text-align: right;\">\n",
       "      <th></th>\n",
       "      <th>Date</th>\n",
       "      <th>Total Equity</th>\n",
       "      <th>Domestic Equity</th>\n",
       "      <th>World Equity</th>\n",
       "      <th>Hybrid</th>\n",
       "      <th>Total Bond</th>\n",
       "      <th>Taxable Bond</th>\n",
       "      <th>Municipal Bond</th>\n",
       "      <th>Total</th>\n",
       "    </tr>\n",
       "  </thead>\n",
       "  <tbody>\n",
       "    <tr>\n",
       "      <th>1970-01-01 00:00:00.000000000</th>\n",
       "      <td>2012-12-05</td>\n",
       "      <td>-7426</td>\n",
       "      <td>-6060</td>\n",
       "      <td>-1367</td>\n",
       "      <td>-74</td>\n",
       "      <td>5317</td>\n",
       "      <td>4210</td>\n",
       "      <td>1107</td>\n",
       "      <td>-2183</td>\n",
       "    </tr>\n",
       "    <tr>\n",
       "      <th>1970-01-01 00:00:00.000000001</th>\n",
       "      <td>2012-12-12</td>\n",
       "      <td>-8783</td>\n",
       "      <td>-7520</td>\n",
       "      <td>-1263</td>\n",
       "      <td>123</td>\n",
       "      <td>1818</td>\n",
       "      <td>1598</td>\n",
       "      <td>219</td>\n",
       "      <td>-6842</td>\n",
       "    </tr>\n",
       "    <tr>\n",
       "      <th>1970-01-01 00:00:00.000000002</th>\n",
       "      <td>2012-12-19</td>\n",
       "      <td>-5496</td>\n",
       "      <td>-5470</td>\n",
       "      <td>-26</td>\n",
       "      <td>-73</td>\n",
       "      <td>103</td>\n",
       "      <td>3472</td>\n",
       "      <td>-3369</td>\n",
       "      <td>-5466</td>\n",
       "    </tr>\n",
       "    <tr>\n",
       "      <th>1970-01-01 00:00:00.000000003</th>\n",
       "      <td>2012-12-26</td>\n",
       "      <td>-4451</td>\n",
       "      <td>-4076</td>\n",
       "      <td>-375</td>\n",
       "      <td>550</td>\n",
       "      <td>2610</td>\n",
       "      <td>3333</td>\n",
       "      <td>-722</td>\n",
       "      <td>-1291</td>\n",
       "    </tr>\n",
       "    <tr>\n",
       "      <th>1970-01-01 00:00:00.000000004</th>\n",
       "      <td>2013-01-02</td>\n",
       "      <td>-11156</td>\n",
       "      <td>-9622</td>\n",
       "      <td>-1533</td>\n",
       "      <td>-158</td>\n",
       "      <td>2383</td>\n",
       "      <td>2103</td>\n",
       "      <td>280</td>\n",
       "      <td>-8931</td>\n",
       "    </tr>\n",
       "  </tbody>\n",
       "</table>\n",
       "</div>"
      ],
      "text/plain": [
       "                                    Date  Total Equity  Domestic Equity  \\\n",
       "1970-01-01 00:00:00.000000000 2012-12-05         -7426            -6060   \n",
       "1970-01-01 00:00:00.000000001 2012-12-12         -8783            -7520   \n",
       "1970-01-01 00:00:00.000000002 2012-12-19         -5496            -5470   \n",
       "1970-01-01 00:00:00.000000003 2012-12-26         -4451            -4076   \n",
       "1970-01-01 00:00:00.000000004 2013-01-02        -11156            -9622   \n",
       "\n",
       "                               World Equity  Hybrid  Total Bond  Taxable Bond  \\\n",
       "1970-01-01 00:00:00.000000000         -1367     -74        5317          4210   \n",
       "1970-01-01 00:00:00.000000001         -1263     123        1818          1598   \n",
       "1970-01-01 00:00:00.000000002           -26     -73         103          3472   \n",
       "1970-01-01 00:00:00.000000003          -375     550        2610          3333   \n",
       "1970-01-01 00:00:00.000000004         -1533    -158        2383          2103   \n",
       "\n",
       "                               Municipal Bond  Total  \n",
       "1970-01-01 00:00:00.000000000            1107  -2183  \n",
       "1970-01-01 00:00:00.000000001             219  -6842  \n",
       "1970-01-01 00:00:00.000000002           -3369  -5466  \n",
       "1970-01-01 00:00:00.000000003            -722  -1291  \n",
       "1970-01-01 00:00:00.000000004             280  -8931  "
      ]
     },
     "execution_count": 14,
     "metadata": {},
     "output_type": "execute_result"
    }
   ],
   "source": [
    "df2.head()"
   ]
  },
  {
   "cell_type": "markdown",
   "id": "b6ab5fa5",
   "metadata": {},
   "source": [
    "### Change the frequency to monthly, sum the values and assign it to new variable called monthly."
   ]
  },
  {
   "cell_type": "code",
   "execution_count": 15,
   "id": "d00694f1",
   "metadata": {},
   "outputs": [
    {
     "data": {
      "text/plain": [
       "0           NaN\n",
       "1      0.229984\n",
       "2      0.229984\n",
       "3      0.229984\n",
       "4      0.229984\n",
       "5      0.229984\n",
       "6     14.718988\n",
       "7      0.229984\n",
       "8      0.229984\n",
       "9      0.229984\n",
       "10     0.229984\n",
       "11     0.229984\n",
       "12     0.229984\n",
       "13     0.229984\n",
       "14     0.229984\n",
       "15     0.229984\n",
       "16     0.229984\n",
       "17     0.229984\n",
       "18     0.229984\n",
       "19     0.229984\n",
       "20     0.229984\n",
       "21     0.689953\n",
       "22     0.229984\n",
       "23     0.229984\n",
       "24     0.229984\n",
       "25     0.229984\n",
       "26     0.229984\n",
       "27     0.229984\n",
       "28     1.839874\n",
       "29     0.229984\n",
       "30     0.229984\n",
       "31     0.197129\n",
       "32     1.412760\n",
       "33     0.229984\n",
       "34     0.229984\n",
       "35     0.229984\n",
       "36     0.229984\n",
       "37     0.229984\n",
       "38     0.689953\n",
       "39     0.229984\n",
       "40     0.229984\n",
       "41     0.229984\n",
       "42     0.229984\n",
       "43     0.229984\n",
       "Name: Date, dtype: float64"
      ]
     },
     "execution_count": 15,
     "metadata": {},
     "output_type": "execute_result"
    }
   ],
   "source": [
    "monthly=freq/np.timedelta64(1, 'M')\n",
    "monthly"
   ]
  },
  {
   "cell_type": "code",
   "execution_count": null,
   "id": "a94fcb94",
   "metadata": {},
   "outputs": [],
   "source": []
  }
 ],
 "metadata": {
  "kernelspec": {
   "display_name": "Python 3 (ipykernel)",
   "language": "python",
   "name": "python3"
  },
  "language_info": {
   "codemirror_mode": {
    "name": "ipython",
    "version": 3
   },
   "file_extension": ".py",
   "mimetype": "text/x-python",
   "name": "python",
   "nbconvert_exporter": "python",
   "pygments_lexer": "ipython3",
   "version": "3.9.13"
  }
 },
 "nbformat": 4,
 "nbformat_minor": 5
}
